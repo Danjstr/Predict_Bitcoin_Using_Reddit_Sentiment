{
 "cells": [
  {
   "cell_type": "markdown",
   "metadata": {},
   "source": [
    "# Stationary Transformation"
   ]
  },
  {
   "cell_type": "markdown",
   "metadata": {},
   "source": [
    "## why stationary transformation matters"
   ]
  },
  {
   "cell_type": "markdown",
   "metadata": {},
   "source": [
    "A great explaination of time series analysis and the importance of stationary data can be found [here](https://chih-ling-hsu.github.io/2017/03/20/time-series).<br>\n",
    "In summary, in order for our time series forecasting to be effective, our data has to be stationary. In order to be stationary: \n",
    "1. The mean of the series should be a constant of 0\n",
    "2. The variance should be the same over time\n",
    "3. The covariance should be the same over time"
   ]
  },
  {
   "cell_type": "markdown",
   "metadata": {},
   "source": [
    "[see this picture as an example](https://i.imgur.com/3lKCxEn.png)"
   ]
  },
  {
   "cell_type": "markdown",
   "metadata": {},
   "source": [
    "# ways to make stationary"
   ]
  },
  {
   "cell_type": "markdown",
   "metadata": {},
   "source": [
    "1. log()\n",
    "\n",
    "Taking the log of data ia a good way to convert data with an exponential distribution into a <br>\n",
    "linear distribution and it also helps to stabilize the variance over time. Vector autoregression <br>\n",
    "is a linear model and taking the log enables us to describe an exponential distribution in linear terms.\n",
    "         \n",
    "2. differencing\n",
    "\n",
    "Taking the difference of consecutive data points is another way to make data stationary. DIfferencing<br>\n",
    "helps to stabilize the mean of a time series by removing changes to the level of a time series, thus <br>\n",
    "reducing seasonality and trends.\n",
    "        \n",
    "3. log & differencing\n",
    "\n",
    "Taking the log of data and then differencing is the same thing as log returns, or difference in log over<br>\n",
    "a time period. Log returns are an industry standard in finance for good reason. Log returns are similar <br>\n",
    "to scaled percent returns but there are some important differences. Log returns are additive while scaled<br> \n",
    "percent returns are not. In other words, the five-day log return is equal to the sum of five one-day log <br>\n",
    "returns.In addition, log returns are symmetrical with respect to gains and losses, where scaled percent <br>\n",
    "returns are biased in favor of gains. For example, if a stock goes down 50%(-0.5 scaled percent) and then<br>\n",
    "goes up 200% (2.0 scaled percent), the stock is back where it started. If the same situation happened in <br>\n",
    "log, we would first see a log return of log(0.5) = -0.301 followed by log(2) = 0.301."
   ]
  },
  {
   "cell_type": "code",
   "execution_count": 5,
   "metadata": {},
   "outputs": [],
   "source": [
    "# import packages\n",
    "import pandas as pd\n",
    "import numpy as np\n",
    "import datetime as dt\n",
    "import matplotlib.pyplot as plt\n",
    "from statsmodels.tsa.stattools import adfuller\n",
    "from statsmodels.tsa.stattools import kpss"
   ]
  },
  {
   "cell_type": "code",
   "execution_count": 6,
   "metadata": {},
   "outputs": [
    {
     "data": {
      "text/html": [
       "<div>\n",
       "<style scoped>\n",
       "    .dataframe tbody tr th:only-of-type {\n",
       "        vertical-align: middle;\n",
       "    }\n",
       "\n",
       "    .dataframe tbody tr th {\n",
       "        vertical-align: top;\n",
       "    }\n",
       "\n",
       "    .dataframe thead th {\n",
       "        text-align: right;\n",
       "    }\n",
       "</style>\n",
       "<table border=\"1\" class=\"dataframe\">\n",
       "  <thead>\n",
       "    <tr style=\"text-align: right;\">\n",
       "      <th></th>\n",
       "      <th>price</th>\n",
       "      <th>volatility</th>\n",
       "      <th>volume_price</th>\n",
       "      <th>volume_number</th>\n",
       "      <th>positive_comment</th>\n",
       "      <th>neutral_comment</th>\n",
       "      <th>negative_comment</th>\n",
       "    </tr>\n",
       "    <tr>\n",
       "      <th>date</th>\n",
       "      <th></th>\n",
       "      <th></th>\n",
       "      <th></th>\n",
       "      <th></th>\n",
       "      <th></th>\n",
       "      <th></th>\n",
       "      <th></th>\n",
       "    </tr>\n",
       "  </thead>\n",
       "  <tbody>\n",
       "    <tr>\n",
       "      <th>2018-08-27</th>\n",
       "      <td>7091.379883</td>\n",
       "      <td>0.036595</td>\n",
       "      <td>487789642</td>\n",
       "      <td>68786.279969</td>\n",
       "      <td>850.0</td>\n",
       "      <td>204.0</td>\n",
       "      <td>587.0</td>\n",
       "    </tr>\n",
       "    <tr>\n",
       "      <th>2018-08-28</th>\n",
       "      <td>7052.000000</td>\n",
       "      <td>0.027327</td>\n",
       "      <td>356139022</td>\n",
       "      <td>50501.846568</td>\n",
       "      <td>972.0</td>\n",
       "      <td>205.0</td>\n",
       "      <td>590.0</td>\n",
       "    </tr>\n",
       "    <tr>\n",
       "      <th>2018-08-29</th>\n",
       "      <td>6998.759766</td>\n",
       "      <td>0.036285</td>\n",
       "      <td>425475685</td>\n",
       "      <td>60793.011794</td>\n",
       "      <td>955.0</td>\n",
       "      <td>227.0</td>\n",
       "      <td>664.0</td>\n",
       "    </tr>\n",
       "    <tr>\n",
       "      <th>2018-08-30</th>\n",
       "      <td>7026.959961</td>\n",
       "      <td>0.027558</td>\n",
       "      <td>349131152</td>\n",
       "      <td>49684.522744</td>\n",
       "      <td>886.0</td>\n",
       "      <td>181.0</td>\n",
       "      <td>617.0</td>\n",
       "    </tr>\n",
       "    <tr>\n",
       "      <th>2018-08-31</th>\n",
       "      <td>7203.459961</td>\n",
       "      <td>0.034213</td>\n",
       "      <td>300301833</td>\n",
       "      <td>41688.554476</td>\n",
       "      <td>877.0</td>\n",
       "      <td>204.0</td>\n",
       "      <td>599.0</td>\n",
       "    </tr>\n",
       "  </tbody>\n",
       "</table>\n",
       "</div>"
      ],
      "text/plain": [
       "                  price  volatility  volume_price  volume_number  \\\n",
       "date                                                               \n",
       "2018-08-27  7091.379883    0.036595     487789642   68786.279969   \n",
       "2018-08-28  7052.000000    0.027327     356139022   50501.846568   \n",
       "2018-08-29  6998.759766    0.036285     425475685   60793.011794   \n",
       "2018-08-30  7026.959961    0.027558     349131152   49684.522744   \n",
       "2018-08-31  7203.459961    0.034213     300301833   41688.554476   \n",
       "\n",
       "            positive_comment  neutral_comment  negative_comment  \n",
       "date                                                             \n",
       "2018-08-27             850.0            204.0             587.0  \n",
       "2018-08-28             972.0            205.0             590.0  \n",
       "2018-08-29             955.0            227.0             664.0  \n",
       "2018-08-30             886.0            181.0             617.0  \n",
       "2018-08-31             877.0            204.0             599.0  "
      ]
     },
     "execution_count": 6,
     "metadata": {},
     "output_type": "execute_result"
    }
   ],
   "source": [
    "# import data\n",
    "df = pd.read_csv('formatted_data_all.csv', index_col = 0)\n",
    "df.tail()"
   ]
  },
  {
   "cell_type": "code",
   "execution_count": 7,
   "metadata": {},
   "outputs": [
    {
     "data": {
      "text/html": [
       "<div>\n",
       "<style scoped>\n",
       "    .dataframe tbody tr th:only-of-type {\n",
       "        vertical-align: middle;\n",
       "    }\n",
       "\n",
       "    .dataframe tbody tr th {\n",
       "        vertical-align: top;\n",
       "    }\n",
       "\n",
       "    .dataframe thead th {\n",
       "        text-align: right;\n",
       "    }\n",
       "</style>\n",
       "<table border=\"1\" class=\"dataframe\">\n",
       "  <thead>\n",
       "    <tr style=\"text-align: right;\">\n",
       "      <th></th>\n",
       "      <th>price</th>\n",
       "      <th>volatility</th>\n",
       "      <th>volume_price</th>\n",
       "      <th>volume_number</th>\n",
       "      <th>positive_comment</th>\n",
       "      <th>neutral_comment</th>\n",
       "      <th>negative_comment</th>\n",
       "    </tr>\n",
       "    <tr>\n",
       "      <th>date</th>\n",
       "      <th></th>\n",
       "      <th></th>\n",
       "      <th></th>\n",
       "      <th></th>\n",
       "      <th></th>\n",
       "      <th></th>\n",
       "      <th></th>\n",
       "    </tr>\n",
       "  </thead>\n",
       "  <tbody>\n",
       "    <tr>\n",
       "      <th>2010-07-16</th>\n",
       "      <td>0.04951</td>\n",
       "      <td>1.000000</td>\n",
       "      <td>1</td>\n",
       "      <td>1.000000</td>\n",
       "      <td>1.0</td>\n",
       "      <td>1.0</td>\n",
       "      <td>1.0</td>\n",
       "    </tr>\n",
       "    <tr>\n",
       "      <th>2010-07-17</th>\n",
       "      <td>0.08584</td>\n",
       "      <td>0.308015</td>\n",
       "      <td>5</td>\n",
       "      <td>58.247903</td>\n",
       "      <td>1.0</td>\n",
       "      <td>1.0</td>\n",
       "      <td>1.0</td>\n",
       "    </tr>\n",
       "    <tr>\n",
       "      <th>2010-07-18</th>\n",
       "      <td>0.08080</td>\n",
       "      <td>0.196040</td>\n",
       "      <td>49</td>\n",
       "      <td>606.435644</td>\n",
       "      <td>1.0</td>\n",
       "      <td>1.0</td>\n",
       "      <td>1.0</td>\n",
       "    </tr>\n",
       "    <tr>\n",
       "      <th>2010-07-19</th>\n",
       "      <td>0.07474</td>\n",
       "      <td>0.101017</td>\n",
       "      <td>20</td>\n",
       "      <td>267.594327</td>\n",
       "      <td>1.0</td>\n",
       "      <td>1.0</td>\n",
       "      <td>1.0</td>\n",
       "    </tr>\n",
       "    <tr>\n",
       "      <th>2010-07-20</th>\n",
       "      <td>0.07921</td>\n",
       "      <td>0.162479</td>\n",
       "      <td>42</td>\n",
       "      <td>530.236081</td>\n",
       "      <td>1.0</td>\n",
       "      <td>1.0</td>\n",
       "      <td>1.0</td>\n",
       "    </tr>\n",
       "  </tbody>\n",
       "</table>\n",
       "</div>"
      ],
      "text/plain": [
       "              price  volatility  volume_price  volume_number  \\\n",
       "date                                                           \n",
       "2010-07-16  0.04951    1.000000             1       1.000000   \n",
       "2010-07-17  0.08584    0.308015             5      58.247903   \n",
       "2010-07-18  0.08080    0.196040            49     606.435644   \n",
       "2010-07-19  0.07474    0.101017            20     267.594327   \n",
       "2010-07-20  0.07921    0.162479            42     530.236081   \n",
       "\n",
       "            positive_comment  neutral_comment  negative_comment  \n",
       "date                                                             \n",
       "2010-07-16               1.0              1.0               1.0  \n",
       "2010-07-17               1.0              1.0               1.0  \n",
       "2010-07-18               1.0              1.0               1.0  \n",
       "2010-07-19               1.0              1.0               1.0  \n",
       "2010-07-20               1.0              1.0               1.0  "
      ]
     },
     "execution_count": 7,
     "metadata": {},
     "output_type": "execute_result"
    }
   ],
   "source": [
    "# do both of these to make stationary transformation step easier\n",
    "# cant have any values nan, inf or 0 for tests to work\n",
    "# fill na\n",
    "df = df.fillna(1)\n",
    "# fill value '0' with '1'\n",
    "df = df.replace(0, 1)\n",
    "df.head()"
   ]
  },
  {
   "cell_type": "markdown",
   "metadata": {},
   "source": [
    "## exploratory functions"
   ]
  },
  {
   "cell_type": "code",
   "execution_count": 8,
   "metadata": {},
   "outputs": [],
   "source": [
    "# descriptive statistics\n",
    "def descriptive_statistics(df, series):\n",
    "    stats = df[series].describe()    \n",
    "    print('\\nDescriptive Statistics for', '\\'' + series + '\\'', '\\n\\n', stats)"
   ]
  },
  {
   "cell_type": "code",
   "execution_count": 9,
   "metadata": {},
   "outputs": [],
   "source": [
    "# create graphics function\n",
    "def get_graphics(df, series, xlabel, ylabel, title, grid = True):\n",
    "    plt.plot(pd.to_datetime(df.index), df[series])\n",
    "    plt.xlabel(xlabel)\n",
    "    plt.ylabel(ylabel)\n",
    "    plt.title(title)\n",
    "    plt.grid(grid)\n",
    "    return plt.show()"
   ]
  },
  {
   "cell_type": "markdown",
   "metadata": {},
   "source": [
    "## stationary tests"
   ]
  },
  {
   "cell_type": "markdown",
   "metadata": {},
   "source": [
    "unit root = statistical properties of series are not constant with time.\n",
    "\n",
    "In order to be stationary, series has to be constant with time. So if a series has a unit root, it is not stationary\n",
    "\n",
    "- strict stationary = mean, variance, covariance are not function of time\n",
    "- trend stationary = no root unit, but has a trend. if you remove the trend, it would be strict stationary\n",
    "- difference stationary = series can be made strict stationary by differencing"
   ]
  },
  {
   "cell_type": "markdown",
   "metadata": {},
   "source": [
    "## ADF Augmented Dickey Fuller Test (unit root test)\n",
    "\n",
    "null hypothesis = series has a unit root (a = 1)<br>\n",
    "alt hypothesis = series has no unit root\n",
    "\n",
    "accept null = t-score is greter than critical value (there is a unit root)<br>\n",
    "reject null = t-score is less than critical value (there is no unit root)\n",
    "\n",
    "accpet null = bad (not stationary)<br>\n",
    "reject null = good (stationary)\n",
    "\n",
    "adf can be interpreted as a difference stationary test"
   ]
  },
  {
   "cell_type": "code",
   "execution_count": 10,
   "metadata": {},
   "outputs": [],
   "source": [
    "# ADF Augmented Dickey Fuller Test\n",
    "def adf_test(df, series):\n",
    "    results = adfuller(df[series])\n",
    "    output = pd.Series(results[0:4], index = ['t-score', 'p-value', '# of lags used', '# of observations'])\n",
    "    for key, value in results[4].items():\n",
    "        output['critical value (%s)' %key] = value\n",
    "    # if t-score < critical value at 5%, the data is stationary\n",
    "    # if t-score > critical value at 5%, the data is NOT stationary\n",
    "    if output[0] < output[5]:\n",
    "        print('\\nADF: The data', '\\'' + series + '\\'', 'is STATIONARY \\n\\n', output)\n",
    "    elif output[0] > output[5]:\n",
    "        print('\\nADF: The data', '\\'' + series + '\\'', 'is NOT STATIONARY \\n\\n', output)\n",
    "    else:\n",
    "        print('\\nADF: There is something wrong with', '\\'' + series + '\\'','\\n\\n', output)"
   ]
  },
  {
   "cell_type": "markdown",
   "metadata": {},
   "source": [
    "## KPSS Kwiatkowski-Phillips-Schmidt-Shin Test (stationary test)\n",
    "\n",
    "null hypothesis = the series has a stationary trend<br>\n",
    "alt hypothesis = the series has a unit root (series is not stationary)\n",
    "\n",
    "accept null = t-score is less than critical value (series is stationary) <br>\n",
    "reject null = t-score is greater than the critical value (series is not stationary)\n",
    "\n",
    "accpet null = good (stationary)<br>\n",
    "reject null = bad (not stationary)\n",
    "\n",
    "kpss classifies a series as stationary on the absence of a unit root<br>\n",
    "(both strict stationary and trend stationary will be classified as stationary)"
   ]
  },
  {
   "cell_type": "code",
   "execution_count": 11,
   "metadata": {},
   "outputs": [],
   "source": [
    "# KPSS Kwiatkowski-Phillips-Schmidt-Shin Test (stationary test)\n",
    "def kpss_test(df, series):\n",
    "    results = kpss(df[series], regression = 'ct')\n",
    "    output = pd.Series(results[0:3], index = ['t-score', 'p-value', '# lags used'])              \n",
    "    for key, value in results[3].items():\n",
    "        output['critical value (%s)' %key] = value\n",
    "    # if t-score < critical value at 5%, the data is stationary\n",
    "    # if t-score > critical value at 5%, the data is NOT stationary\n",
    "    if output[0] < output[4]:\n",
    "        print('\\nKPSS: The data', '\\'' + series + '\\'', 'is STATIONARY \\n\\n', output)\n",
    "    elif output[0] > output[4]:\n",
    "        print('\\nKPSS: The data', '\\'' + series + '\\'', 'is NOT STATIONARY \\n\\n', output)\n",
    "    else:\n",
    "        print('\\nKPSS: There is something wrong with', '\\'' + series + '\\'', '\\n\\n', output)"
   ]
  },
  {
   "cell_type": "markdown",
   "metadata": {},
   "source": [
    "Many times, adf and kpss can give conflicting results. if so:\n",
    "\n",
    "1. [adf = stationary], [kpss = stationary] = series is stationary\n",
    "2. [adf = stationary], [kpss = NOT stationary] = series is difference stationary. use differencing to make it stationary\n",
    "3. [adf = NOT stationary], [kpss = stationary] = series is trend stationary. remove trend to make strict stationary\n",
    "4. [adf = NOT STATIONARY], [kpss = NOT STATIONARY] = series is not stationary"
   ]
  },
  {
   "cell_type": "markdown",
   "metadata": {},
   "source": [
    "## everything combined"
   ]
  },
  {
   "cell_type": "code",
   "execution_count": 12,
   "metadata": {},
   "outputs": [],
   "source": [
    "# all functions above in one\n",
    "def series_analysis(df, series, xlabel, ylabel, title, grid = True):\n",
    "    # descriptive stats\n",
    "    descriptive_statistics(df, series)\n",
    "    # graphics\n",
    "    get_graphics(df, series, xlabel, ylabel, title, grid = True)\n",
    "    # stationary tests\n",
    "    adf_test(df, series)\n",
    "    kpss_test(df, series)"
   ]
  },
  {
   "cell_type": "markdown",
   "metadata": {},
   "source": [
    "# transforming variables"
   ]
  },
  {
   "cell_type": "code",
   "execution_count": 13,
   "metadata": {},
   "outputs": [],
   "source": [
    "# create new df for stationary data\n",
    "stationary = pd.DataFrame()"
   ]
  },
  {
   "cell_type": "markdown",
   "metadata": {},
   "source": [
    "- ## price"
   ]
  },
  {
   "cell_type": "code",
   "execution_count": 14,
   "metadata": {},
   "outputs": [
    {
     "name": "stdout",
     "output_type": "stream",
     "text": [
      "\n",
      "Descriptive Statistics for 'price' \n",
      "\n",
      " count     2969.000000\n",
      "mean      1385.907283\n",
      "std       2913.696062\n",
      "min          0.049510\n",
      "25%         11.510000\n",
      "50%        282.690002\n",
      "75%        705.400024\n",
      "max      19345.490234\n",
      "Name: price, dtype: float64\n"
     ]
    },
    {
     "data": {
      "image/png": "[encoded data removed]",
      "text/plain": [
       "<Figure size 432x288 with 1 Axes>"
      ]
     },
     "metadata": {},
     "output_type": "display_data"
    },
    {
     "name": "stdout",
     "output_type": "stream",
     "text": [
      "\n",
      "ADF: The data 'price' is NOT STATIONARY \n",
      "\n",
      " t-score                   -1.274978\n",
      "p-value                    0.640541\n",
      "# of lags used            29.000000\n",
      "# of observations       2939.000000\n",
      "critical value (1%)       -3.432577\n",
      "critical value (5%)       -2.862524\n",
      "critical value (10%)      -2.567294\n",
      "dtype: float64\n",
      "\n",
      "KPSS: The data 'price' is NOT STATIONARY \n",
      "\n",
      " t-score                   1.198092\n",
      "p-value                   0.010000\n",
      "# lags used              29.000000\n",
      "critical value (10%)      0.119000\n",
      "critical value (5%)       0.146000\n",
      "critical value (2.5%)     0.176000\n",
      "critical value (1%)       0.216000\n",
      "dtype: float64\n"
     ]
    },
    {
     "name": "stderr",
     "output_type": "stream",
     "text": [
      "C:\\Python\\lib\\site-packages\\statsmodels\\tsa\\stattools.py:1276: InterpolationWarning: p-value is smaller than the indicated p-value\n",
      "  warn(\"p-value is smaller than the indicated p-value\", InterpolationWarning)\n"
     ]
    }
   ],
   "source": [
    "# ['price'] \n",
    "series_analysis(df, 'price', xlabel = 'year', ylabel = 'Bitcoin Price(USD)', title = 'df[\\'price\\']')"
   ]
  },
  {
   "cell_type": "code",
   "execution_count": 15,
   "metadata": {},
   "outputs": [
    {
     "name": "stdout",
     "output_type": "stream",
     "text": [
      "\n",
      "Descriptive Statistics for 'price' \n",
      "\n",
      " count    2968.000000\n",
      "mean        0.004005\n",
      "std         0.069389\n",
      "min        -0.848765\n",
      "25%        -0.013854\n",
      "50%         0.001964\n",
      "75%         0.022700\n",
      "max         1.474395\n",
      "Name: price, dtype: float64\n"
     ]
    },
    {
     "data": {
      "image/png": "[encoded data removed]",
      "text/plain": [
       "<Figure size 432x288 with 1 Axes>"
      ]
     },
     "metadata": {},
     "output_type": "display_data"
    },
    {
     "name": "stdout",
     "output_type": "stream",
     "text": [
      "\n",
      "ADF: The data 'price' is STATIONARY \n",
      "\n",
      " t-score                  -21.609835\n",
      "p-value                    0.000000\n",
      "# of lags used             4.000000\n",
      "# of observations       2963.000000\n",
      "critical value (1%)       -3.432559\n",
      "critical value (5%)       -2.862516\n",
      "critical value (10%)      -2.567290\n",
      "dtype: float64\n",
      "\n",
      "KPSS: The data 'price' is STATIONARY \n",
      "\n",
      " t-score                   0.085872\n",
      "p-value                   0.100000\n",
      "# lags used              29.000000\n",
      "critical value (10%)      0.119000\n",
      "critical value (5%)       0.146000\n",
      "critical value (2.5%)     0.176000\n",
      "critical value (1%)       0.216000\n",
      "dtype: float64\n"
     ]
    },
    {
     "name": "stderr",
     "output_type": "stream",
     "text": [
      "C:\\Python\\lib\\site-packages\\statsmodels\\tsa\\stattools.py:1278: InterpolationWarning: p-value is greater than the indicated p-value\n",
      "  warn(\"p-value is greater than the indicated p-value\", InterpolationWarning)\n"
     ]
    },
    {
     "data": {
      "text/html": [
       "<div>\n",
       "<style scoped>\n",
       "    .dataframe tbody tr th:only-of-type {\n",
       "        vertical-align: middle;\n",
       "    }\n",
       "\n",
       "    .dataframe tbody tr th {\n",
       "        vertical-align: top;\n",
       "    }\n",
       "\n",
       "    .dataframe thead th {\n",
       "        text-align: right;\n",
       "    }\n",
       "</style>\n",
       "<table border=\"1\" class=\"dataframe\">\n",
       "  <thead>\n",
       "    <tr style=\"text-align: right;\">\n",
       "      <th></th>\n",
       "      <th>price</th>\n",
       "    </tr>\n",
       "    <tr>\n",
       "      <th>date</th>\n",
       "      <th></th>\n",
       "    </tr>\n",
       "  </thead>\n",
       "  <tbody>\n",
       "    <tr>\n",
       "      <th>2010-07-17</th>\n",
       "      <td>0.550310</td>\n",
       "    </tr>\n",
       "    <tr>\n",
       "      <th>2010-07-18</th>\n",
       "      <td>-0.060508</td>\n",
       "    </tr>\n",
       "    <tr>\n",
       "      <th>2010-07-19</th>\n",
       "      <td>-0.077962</td>\n",
       "    </tr>\n",
       "    <tr>\n",
       "      <th>2010-07-20</th>\n",
       "      <td>0.058087</td>\n",
       "    </tr>\n",
       "    <tr>\n",
       "      <th>2010-07-21</th>\n",
       "      <td>-0.450129</td>\n",
       "    </tr>\n",
       "  </tbody>\n",
       "</table>\n",
       "</div>"
      ],
      "text/plain": [
       "               price\n",
       "date                \n",
       "2010-07-17  0.550310\n",
       "2010-07-18 -0.060508\n",
       "2010-07-19 -0.077962\n",
       "2010-07-20  0.058087\n",
       "2010-07-21 -0.450129"
      ]
     },
     "execution_count": 15,
     "metadata": {},
     "output_type": "execute_result"
    }
   ],
   "source": [
    "# ['price'] = log & diff\n",
    "stationary['price'] = df['price'].apply(np.log).diff().dropna()\n",
    "# run tests to see if stationary\n",
    "series_analysis(stationary, 'price', xlabel = 'year', ylabel = 'Bitcoin Price(USD)', title = 'Log_Diff_Price')\n",
    "\n",
    "stationary.head()"
   ]
  },
  {
   "cell_type": "markdown",
   "metadata": {},
   "source": [
    "- ## volatility"
   ]
  },
  {
   "cell_type": "code",
   "execution_count": 16,
   "metadata": {},
   "outputs": [
    {
     "name": "stdout",
     "output_type": "stream",
     "text": [
      "\n",
      "Descriptive Statistics for 'volatility' \n",
      "\n",
      " count    2969.000000\n",
      "mean        0.078825\n",
      "std         0.111311\n",
      "min         0.000310\n",
      "25%         0.027287\n",
      "50%         0.047210\n",
      "75%         0.088750\n",
      "max         1.839006\n",
      "Name: volatility, dtype: float64\n"
     ]
    },
    {
     "data": {
      "image/png": "[encoded data removed]",
      "text/plain": [
       "<Figure size 432x288 with 1 Axes>"
      ]
     },
     "metadata": {},
     "output_type": "display_data"
    },
    {
     "name": "stdout",
     "output_type": "stream",
     "text": [
      "\n",
      "ADF: The data 'volatility' is STATIONARY \n",
      "\n",
      " t-score                -8.578456e+00\n",
      "p-value                 7.845888e-14\n",
      "# of lags used          1.500000e+01\n",
      "# of observations       2.953000e+03\n",
      "critical value (1%)    -3.432566e+00\n",
      "critical value (5%)    -2.862519e+00\n",
      "critical value (10%)   -2.567291e+00\n",
      "dtype: float64\n",
      "\n",
      "KPSS: The data 'volatility' is NOT STATIONARY \n",
      "\n",
      " t-score                   0.278201\n",
      "p-value                   0.010000\n",
      "# lags used              29.000000\n",
      "critical value (10%)      0.119000\n",
      "critical value (5%)       0.146000\n",
      "critical value (2.5%)     0.176000\n",
      "critical value (1%)       0.216000\n",
      "dtype: float64\n"
     ]
    },
    {
     "name": "stderr",
     "output_type": "stream",
     "text": [
      "C:\\Python\\lib\\site-packages\\statsmodels\\tsa\\stattools.py:1276: InterpolationWarning: p-value is smaller than the indicated p-value\n",
      "  warn(\"p-value is smaller than the indicated p-value\", InterpolationWarning)\n"
     ]
    }
   ],
   "source": [
    "# ['volatility']\n",
    "series_analysis(df, 'volatility', xlabel = 'year', ylabel = 'volatility (daily (high-low)/price)', title = 'df[\\'volatility\\']')"
   ]
  },
  {
   "cell_type": "code",
   "execution_count": 17,
   "metadata": {},
   "outputs": [
    {
     "name": "stdout",
     "output_type": "stream",
     "text": [
      "\n",
      "Descriptive Statistics for 'volatility' \n",
      "\n",
      " count    2968.000000\n",
      "mean       -0.000325\n",
      "std         0.100633\n",
      "min        -1.804238\n",
      "25%        -0.021514\n",
      "50%        -0.002326\n",
      "75%         0.016968\n",
      "max         1.785943\n",
      "Name: volatility, dtype: float64\n"
     ]
    },
    {
     "data": {
      "image/png": "[encoded data removed]",
      "text/plain": [
       "<Figure size 432x288 with 1 Axes>"
      ]
     },
     "metadata": {},
     "output_type": "display_data"
    },
    {
     "name": "stdout",
     "output_type": "stream",
     "text": [
      "\n",
      "ADF: The data 'volatility' is STATIONARY \n",
      "\n",
      " t-score                -1.535538e+01\n",
      "p-value                 3.672798e-28\n",
      "# of lags used          2.900000e+01\n",
      "# of observations       2.938000e+03\n",
      "critical value (1%)    -3.432578e+00\n",
      "critical value (5%)    -2.862524e+00\n",
      "critical value (10%)   -2.567294e+00\n",
      "dtype: float64\n",
      "\n",
      "KPSS: The data 'volatility' is STATIONARY \n",
      "\n",
      " t-score                   0.038277\n",
      "p-value                   0.100000\n",
      "# lags used              29.000000\n",
      "critical value (10%)      0.119000\n",
      "critical value (5%)       0.146000\n",
      "critical value (2.5%)     0.176000\n",
      "critical value (1%)       0.216000\n",
      "dtype: float64\n"
     ]
    },
    {
     "name": "stderr",
     "output_type": "stream",
     "text": [
      "C:\\Python\\lib\\site-packages\\statsmodels\\tsa\\stattools.py:1278: InterpolationWarning: p-value is greater than the indicated p-value\n",
      "  warn(\"p-value is greater than the indicated p-value\", InterpolationWarning)\n"
     ]
    },
    {
     "data": {
      "text/html": [
       "<div>\n",
       "<style scoped>\n",
       "    .dataframe tbody tr th:only-of-type {\n",
       "        vertical-align: middle;\n",
       "    }\n",
       "\n",
       "    .dataframe tbody tr th {\n",
       "        vertical-align: top;\n",
       "    }\n",
       "\n",
       "    .dataframe thead th {\n",
       "        text-align: right;\n",
       "    }\n",
       "</style>\n",
       "<table border=\"1\" class=\"dataframe\">\n",
       "  <thead>\n",
       "    <tr style=\"text-align: right;\">\n",
       "      <th></th>\n",
       "      <th>price</th>\n",
       "      <th>volatility</th>\n",
       "    </tr>\n",
       "    <tr>\n",
       "      <th>date</th>\n",
       "      <th></th>\n",
       "      <th></th>\n",
       "    </tr>\n",
       "  </thead>\n",
       "  <tbody>\n",
       "    <tr>\n",
       "      <th>2010-07-17</th>\n",
       "      <td>0.550310</td>\n",
       "      <td>-0.691985</td>\n",
       "    </tr>\n",
       "    <tr>\n",
       "      <th>2010-07-18</th>\n",
       "      <td>-0.060508</td>\n",
       "      <td>-0.111975</td>\n",
       "    </tr>\n",
       "    <tr>\n",
       "      <th>2010-07-19</th>\n",
       "      <td>-0.077962</td>\n",
       "      <td>-0.095023</td>\n",
       "    </tr>\n",
       "    <tr>\n",
       "      <th>2010-07-20</th>\n",
       "      <td>0.058087</td>\n",
       "      <td>0.061463</td>\n",
       "    </tr>\n",
       "    <tr>\n",
       "      <th>2010-07-21</th>\n",
       "      <td>-0.450129</td>\n",
       "      <td>0.457521</td>\n",
       "    </tr>\n",
       "  </tbody>\n",
       "</table>\n",
       "</div>"
      ],
      "text/plain": [
       "               price  volatility\n",
       "date                            \n",
       "2010-07-17  0.550310   -0.691985\n",
       "2010-07-18 -0.060508   -0.111975\n",
       "2010-07-19 -0.077962   -0.095023\n",
       "2010-07-20  0.058087    0.061463\n",
       "2010-07-21 -0.450129    0.457521"
      ]
     },
     "execution_count": 17,
     "metadata": {},
     "output_type": "execute_result"
    }
   ],
   "source": [
    "# ['volatility'] = diff\n",
    "stationary['volatility'] = df['volatility'].diff().dropna()\n",
    "# run tests to see if stationary\n",
    "series_analysis(stationary, 'volatility',  xlabel = 'year', ylabel = 'Volatility', title = 'Diff_Volatility')\n",
    "\n",
    "stationary.head()"
   ]
  },
  {
   "cell_type": "markdown",
   "metadata": {},
   "source": [
    "- ## volume_price"
   ]
  },
  {
   "cell_type": "code",
   "execution_count": 18,
   "metadata": {},
   "outputs": [
    {
     "name": "stdout",
     "output_type": "stream",
     "text": [
      "\n",
      "Descriptive Statistics for 'volume_price' \n",
      "\n",
      " count    2.969000e+03\n",
      "mean     1.430317e+08\n",
      "std      4.173824e+08\n",
      "min      1.000000e+00\n",
      "25%      4.295020e+05\n",
      "50%      8.050734e+06\n",
      "75%      3.376272e+07\n",
      "max      6.245732e+09\n",
      "Name: volume_price, dtype: float64\n"
     ]
    },
    {
     "data": {
      "image/png": "[encoded data removed]",
      "text/plain": [
       "<Figure size 432x288 with 1 Axes>"
      ]
     },
     "metadata": {},
     "output_type": "display_data"
    },
    {
     "name": "stdout",
     "output_type": "stream",
     "text": [
      "\n",
      "ADF: The data 'volume_price' is NOT STATIONARY \n",
      "\n",
      " t-score                   -2.534981\n",
      "p-value                    0.107193\n",
      "# of lags used            29.000000\n",
      "# of observations       2939.000000\n",
      "critical value (1%)       -3.432577\n",
      "critical value (5%)       -2.862524\n",
      "critical value (10%)      -2.567294\n",
      "dtype: float64\n",
      "\n",
      "KPSS: The data 'volume_price' is NOT STATIONARY \n",
      "\n",
      " t-score                   0.844113\n",
      "p-value                   0.010000\n",
      "# lags used              29.000000\n",
      "critical value (10%)      0.119000\n",
      "critical value (5%)       0.146000\n",
      "critical value (2.5%)     0.176000\n",
      "critical value (1%)       0.216000\n",
      "dtype: float64\n"
     ]
    },
    {
     "name": "stderr",
     "output_type": "stream",
     "text": [
      "C:\\Python\\lib\\site-packages\\statsmodels\\tsa\\stattools.py:1276: InterpolationWarning: p-value is smaller than the indicated p-value\n",
      "  warn(\"p-value is smaller than the indicated p-value\", InterpolationWarning)\n"
     ]
    }
   ],
   "source": [
    "# ['volume_price']\n",
    "series_analysis(df, 'volume_price', xlabel = 'year', ylabel = 'Volume_Price(USD)', title = 'df[\\'volume_price\\']')"
   ]
  },
  {
   "cell_type": "code",
   "execution_count": 19,
   "metadata": {},
   "outputs": [
    {
     "name": "stdout",
     "output_type": "stream",
     "text": [
      "\n",
      "Descriptive Statistics for 'volume_price' \n",
      "\n",
      " count    2968.000000\n",
      "mean        0.006577\n",
      "std         0.749558\n",
      "min       -13.192387\n",
      "25%        -0.363592\n",
      "50%        -0.032482\n",
      "75%         0.358553\n",
      "max        12.365727\n",
      "Name: volume_price, dtype: float64\n"
     ]
    },
    {
     "data": {
      "image/png": "[encoded data removed]",
      "text/plain": [
       "<Figure size 432x288 with 1 Axes>"
      ]
     },
     "metadata": {},
     "output_type": "display_data"
    },
    {
     "name": "stdout",
     "output_type": "stream",
     "text": [
      "\n",
      "ADF: The data 'volume_price' is STATIONARY \n",
      "\n",
      " t-score                -1.397717e+01\n",
      "p-value                 4.241200e-26\n",
      "# of lags used          2.800000e+01\n",
      "# of observations       2.939000e+03\n",
      "critical value (1%)    -3.432577e+00\n",
      "critical value (5%)    -2.862524e+00\n",
      "critical value (10%)   -2.567294e+00\n",
      "dtype: float64\n",
      "\n",
      "KPSS: The data 'volume_price' is STATIONARY \n",
      "\n",
      " t-score                   0.053668\n",
      "p-value                   0.100000\n",
      "# lags used              29.000000\n",
      "critical value (10%)      0.119000\n",
      "critical value (5%)       0.146000\n",
      "critical value (2.5%)     0.176000\n",
      "critical value (1%)       0.216000\n",
      "dtype: float64\n"
     ]
    },
    {
     "name": "stderr",
     "output_type": "stream",
     "text": [
      "C:\\Python\\lib\\site-packages\\statsmodels\\tsa\\stattools.py:1278: InterpolationWarning: p-value is greater than the indicated p-value\n",
      "  warn(\"p-value is greater than the indicated p-value\", InterpolationWarning)\n"
     ]
    },
    {
     "data": {
      "text/html": [
       "<div>\n",
       "<style scoped>\n",
       "    .dataframe tbody tr th:only-of-type {\n",
       "        vertical-align: middle;\n",
       "    }\n",
       "\n",
       "    .dataframe tbody tr th {\n",
       "        vertical-align: top;\n",
       "    }\n",
       "\n",
       "    .dataframe thead th {\n",
       "        text-align: right;\n",
       "    }\n",
       "</style>\n",
       "<table border=\"1\" class=\"dataframe\">\n",
       "  <thead>\n",
       "    <tr style=\"text-align: right;\">\n",
       "      <th></th>\n",
       "      <th>price</th>\n",
       "      <th>volatility</th>\n",
       "      <th>volume_price</th>\n",
       "    </tr>\n",
       "    <tr>\n",
       "      <th>date</th>\n",
       "      <th></th>\n",
       "      <th></th>\n",
       "      <th></th>\n",
       "    </tr>\n",
       "  </thead>\n",
       "  <tbody>\n",
       "    <tr>\n",
       "      <th>2010-07-17</th>\n",
       "      <td>0.550310</td>\n",
       "      <td>-0.691985</td>\n",
       "      <td>1.609438</td>\n",
       "    </tr>\n",
       "    <tr>\n",
       "      <th>2010-07-18</th>\n",
       "      <td>-0.060508</td>\n",
       "      <td>-0.111975</td>\n",
       "      <td>2.282382</td>\n",
       "    </tr>\n",
       "    <tr>\n",
       "      <th>2010-07-19</th>\n",
       "      <td>-0.077962</td>\n",
       "      <td>-0.095023</td>\n",
       "      <td>-0.896088</td>\n",
       "    </tr>\n",
       "    <tr>\n",
       "      <th>2010-07-20</th>\n",
       "      <td>0.058087</td>\n",
       "      <td>0.061463</td>\n",
       "      <td>0.741937</td>\n",
       "    </tr>\n",
       "    <tr>\n",
       "      <th>2010-07-21</th>\n",
       "      <td>-0.450129</td>\n",
       "      <td>0.457521</td>\n",
       "      <td>1.122143</td>\n",
       "    </tr>\n",
       "  </tbody>\n",
       "</table>\n",
       "</div>"
      ],
      "text/plain": [
       "               price  volatility  volume_price\n",
       "date                                          \n",
       "2010-07-17  0.550310   -0.691985      1.609438\n",
       "2010-07-18 -0.060508   -0.111975      2.282382\n",
       "2010-07-19 -0.077962   -0.095023     -0.896088\n",
       "2010-07-20  0.058087    0.061463      0.741937\n",
       "2010-07-21 -0.450129    0.457521      1.122143"
      ]
     },
     "execution_count": 19,
     "metadata": {},
     "output_type": "execute_result"
    }
   ],
   "source": [
    "# ['volume_price'] = log & diff\n",
    "stationary['volume_price'] =  df['volume_price'].apply(np.log).diff().dropna()\n",
    "# run tests to see if stationary\n",
    "series_analysis(stationary, 'volume_price',  xlabel = 'year', ylabel = 'volume_price', title = 'Log_Diff_Volume_Price')\n",
    "\n",
    "stationary.head()"
   ]
  },
  {
   "cell_type": "markdown",
   "metadata": {},
   "source": [
    "- ## volume_number"
   ]
  },
  {
   "cell_type": "code",
   "execution_count": 20,
   "metadata": {},
   "outputs": [
    {
     "name": "stdout",
     "output_type": "stream",
     "text": [
      "\n",
      "Descriptive Statistics for 'volume_number' \n",
      "\n",
      " count      2969.000000\n",
      "mean      56540.107916\n",
      "std       55259.140432\n",
      "min           1.000000\n",
      "25%       19505.076551\n",
      "50%       41823.909259\n",
      "75%       74297.668676\n",
      "max      572907.818620\n",
      "Name: volume_number, dtype: float64\n"
     ]
    },
    {
     "data": {
      "image/png": "[encoded data removed]",
      "text/plain": [
       "<Figure size 432x288 with 1 Axes>"
      ]
     },
     "metadata": {},
     "output_type": "display_data"
    },
    {
     "name": "stdout",
     "output_type": "stream",
     "text": [
      "\n",
      "ADF: The data 'volume_number' is STATIONARY \n",
      "\n",
      " t-score                   -4.125472\n",
      "p-value                    0.000879\n",
      "# of lags used            27.000000\n",
      "# of observations       2941.000000\n",
      "critical value (1%)       -3.432575\n",
      "critical value (5%)       -2.862523\n",
      "critical value (10%)      -2.567293\n",
      "dtype: float64\n",
      "\n",
      "KPSS: The data 'volume_number' is NOT STATIONARY \n",
      "\n",
      " t-score                   0.449372\n",
      "p-value                   0.010000\n",
      "# lags used              29.000000\n",
      "critical value (10%)      0.119000\n",
      "critical value (5%)       0.146000\n",
      "critical value (2.5%)     0.176000\n",
      "critical value (1%)       0.216000\n",
      "dtype: float64\n"
     ]
    },
    {
     "name": "stderr",
     "output_type": "stream",
     "text": [
      "C:\\Python\\lib\\site-packages\\statsmodels\\tsa\\stattools.py:1276: InterpolationWarning: p-value is smaller than the indicated p-value\n",
      "  warn(\"p-value is smaller than the indicated p-value\", InterpolationWarning)\n"
     ]
    }
   ],
   "source": [
    "# ['volume_number']\n",
    "series_analysis(df, 'volume_number', xlabel = 'year', ylabel = 'Number of Bitocins exchanged', title = 'df[\\'volume_number\\']')"
   ]
  },
  {
   "cell_type": "code",
   "execution_count": 21,
   "metadata": {},
   "outputs": [
    {
     "name": "stdout",
     "output_type": "stream",
     "text": [
      "\n",
      "Descriptive Statistics for 'volume_number' \n",
      "\n",
      " count      2968.000000\n",
      "mean         14.045672\n",
      "std       42092.258606\n",
      "min     -356062.771140\n",
      "25%      -13951.065498\n",
      "50%        -684.245552\n",
      "75%       12164.821981\n",
      "max      421763.909910\n",
      "Name: volume_number, dtype: float64\n"
     ]
    },
    {
     "data": {
      "image/png": "[encoded data removed]",
      "text/plain": [
       "<Figure size 432x288 with 1 Axes>"
      ]
     },
     "metadata": {},
     "output_type": "display_data"
    },
    {
     "name": "stdout",
     "output_type": "stream",
     "text": [
      "\n",
      "ADF: The data 'volume_number' is STATIONARY \n",
      "\n",
      " t-score                -1.631467e+01\n",
      "p-value                 3.170860e-29\n",
      "# of lags used          2.600000e+01\n",
      "# of observations       2.941000e+03\n",
      "critical value (1%)    -3.432575e+00\n",
      "critical value (5%)    -2.862523e+00\n",
      "critical value (10%)   -2.567293e+00\n",
      "dtype: float64\n",
      "\n",
      "KPSS: The data 'volume_number' is STATIONARY \n",
      "\n",
      " t-score                   0.008542\n",
      "p-value                   0.100000\n",
      "# lags used              29.000000\n",
      "critical value (10%)      0.119000\n",
      "critical value (5%)       0.146000\n",
      "critical value (2.5%)     0.176000\n",
      "critical value (1%)       0.216000\n",
      "dtype: float64\n"
     ]
    },
    {
     "name": "stderr",
     "output_type": "stream",
     "text": [
      "C:\\Python\\lib\\site-packages\\statsmodels\\tsa\\stattools.py:1278: InterpolationWarning: p-value is greater than the indicated p-value\n",
      "  warn(\"p-value is greater than the indicated p-value\", InterpolationWarning)\n"
     ]
    },
    {
     "data": {
      "text/html": [
       "<div>\n",
       "<style scoped>\n",
       "    .dataframe tbody tr th:only-of-type {\n",
       "        vertical-align: middle;\n",
       "    }\n",
       "\n",
       "    .dataframe tbody tr th {\n",
       "        vertical-align: top;\n",
       "    }\n",
       "\n",
       "    .dataframe thead th {\n",
       "        text-align: right;\n",
       "    }\n",
       "</style>\n",
       "<table border=\"1\" class=\"dataframe\">\n",
       "  <thead>\n",
       "    <tr style=\"text-align: right;\">\n",
       "      <th></th>\n",
       "      <th>price</th>\n",
       "      <th>volatility</th>\n",
       "      <th>volume_price</th>\n",
       "      <th>volume_number</th>\n",
       "    </tr>\n",
       "    <tr>\n",
       "      <th>date</th>\n",
       "      <th></th>\n",
       "      <th></th>\n",
       "      <th></th>\n",
       "      <th></th>\n",
       "    </tr>\n",
       "  </thead>\n",
       "  <tbody>\n",
       "    <tr>\n",
       "      <th>2010-07-17</th>\n",
       "      <td>0.550310</td>\n",
       "      <td>-0.691985</td>\n",
       "      <td>1.609438</td>\n",
       "      <td>57.247903</td>\n",
       "    </tr>\n",
       "    <tr>\n",
       "      <th>2010-07-18</th>\n",
       "      <td>-0.060508</td>\n",
       "      <td>-0.111975</td>\n",
       "      <td>2.282382</td>\n",
       "      <td>548.187740</td>\n",
       "    </tr>\n",
       "    <tr>\n",
       "      <th>2010-07-19</th>\n",
       "      <td>-0.077962</td>\n",
       "      <td>-0.095023</td>\n",
       "      <td>-0.896088</td>\n",
       "      <td>-338.841317</td>\n",
       "    </tr>\n",
       "    <tr>\n",
       "      <th>2010-07-20</th>\n",
       "      <td>0.058087</td>\n",
       "      <td>0.061463</td>\n",
       "      <td>0.741937</td>\n",
       "      <td>262.641754</td>\n",
       "    </tr>\n",
       "    <tr>\n",
       "      <th>2010-07-21</th>\n",
       "      <td>-0.450129</td>\n",
       "      <td>0.457521</td>\n",
       "      <td>1.122143</td>\n",
       "      <td>2024.219364</td>\n",
       "    </tr>\n",
       "  </tbody>\n",
       "</table>\n",
       "</div>"
      ],
      "text/plain": [
       "               price  volatility  volume_price  volume_number\n",
       "date                                                         \n",
       "2010-07-17  0.550310   -0.691985      1.609438      57.247903\n",
       "2010-07-18 -0.060508   -0.111975      2.282382     548.187740\n",
       "2010-07-19 -0.077962   -0.095023     -0.896088    -338.841317\n",
       "2010-07-20  0.058087    0.061463      0.741937     262.641754\n",
       "2010-07-21 -0.450129    0.457521      1.122143    2024.219364"
      ]
     },
     "execution_count": 21,
     "metadata": {},
     "output_type": "execute_result"
    }
   ],
   "source": [
    "# ['volume_number'] = diff\n",
    "stationary['volume_number'] = df['volume_number'].diff().dropna()\n",
    "# run tests to see if stationary\n",
    "series_analysis(stationary, 'volume_number',  xlabel = 'year', ylabel = 'volume_number', title = 'Diff_Volume_Number')\n",
    "\n",
    "stationary.head()"
   ]
  },
  {
   "cell_type": "markdown",
   "metadata": {},
   "source": [
    "- ## positive_comment"
   ]
  },
  {
   "cell_type": "code",
   "execution_count": 22,
   "metadata": {},
   "outputs": [
    {
     "name": "stdout",
     "output_type": "stream",
     "text": [
      "\n",
      "Descriptive Statistics for 'positive_comment' \n",
      "\n",
      " count    2969.000000\n",
      "mean      614.816100\n",
      "std       737.672425\n",
      "min         1.000000\n",
      "25%        48.000000\n",
      "50%       487.000000\n",
      "75%       814.000000\n",
      "max      7745.000000\n",
      "Name: positive_comment, dtype: float64\n"
     ]
    },
    {
     "data": {
      "image/png": "[encoded data removed]",
      "text/plain": [
       "<Figure size 432x288 with 1 Axes>"
      ]
     },
     "metadata": {},
     "output_type": "display_data"
    },
    {
     "name": "stdout",
     "output_type": "stream",
     "text": [
      "\n",
      "ADF: The data 'positive_comment' is NOT STATIONARY \n",
      "\n",
      " t-score                   -2.840863\n",
      "p-value                    0.052670\n",
      "# of lags used            28.000000\n",
      "# of observations       2940.000000\n",
      "critical value (1%)       -3.432576\n",
      "critical value (5%)       -2.862524\n",
      "critical value (10%)      -2.567294\n",
      "dtype: float64\n",
      "\n",
      "KPSS: The data 'positive_comment' is NOT STATIONARY \n",
      "\n",
      " t-score                   0.303234\n",
      "p-value                   0.010000\n",
      "# lags used              29.000000\n",
      "critical value (10%)      0.119000\n",
      "critical value (5%)       0.146000\n",
      "critical value (2.5%)     0.176000\n",
      "critical value (1%)       0.216000\n",
      "dtype: float64\n"
     ]
    },
    {
     "name": "stderr",
     "output_type": "stream",
     "text": [
      "C:\\Python\\lib\\site-packages\\statsmodels\\tsa\\stattools.py:1276: InterpolationWarning: p-value is smaller than the indicated p-value\n",
      "  warn(\"p-value is smaller than the indicated p-value\", InterpolationWarning)\n"
     ]
    }
   ],
   "source": [
    "# ['positive_comment']\n",
    "series_analysis(df, 'positive_comment', xlabel = 'year', ylabel = 'Number of Positive Comments', title = 'df[\\'positive_comment\\']')"
   ]
  },
  {
   "cell_type": "code",
   "execution_count": 23,
   "metadata": {},
   "outputs": [
    {
     "name": "stdout",
     "output_type": "stream",
     "text": [
      "\n",
      "Descriptive Statistics for 'positive_comment' \n",
      "\n",
      " count    2968.000000\n",
      "mean        0.002283\n",
      "std         0.372720\n",
      "min        -2.484907\n",
      "25%        -0.143344\n",
      "50%         0.000000\n",
      "75%         0.146424\n",
      "max         4.382027\n",
      "Name: positive_comment, dtype: float64\n"
     ]
    },
    {
     "data": {
      "image/png": "[encoded data removed]",
      "text/plain": [
       "<Figure size 432x288 with 1 Axes>"
      ]
     },
     "metadata": {},
     "output_type": "display_data"
    },
    {
     "name": "stdout",
     "output_type": "stream",
     "text": [
      "\n",
      "ADF: The data 'positive_comment' is STATIONARY \n",
      "\n",
      " t-score                -1.160532e+01\n",
      "p-value                 2.589494e-21\n",
      "# of lags used          2.900000e+01\n",
      "# of observations       2.938000e+03\n",
      "critical value (1%)    -3.432578e+00\n",
      "critical value (5%)    -2.862524e+00\n",
      "critical value (10%)   -2.567294e+00\n",
      "dtype: float64\n",
      "\n",
      "KPSS: The data 'positive_comment' is STATIONARY \n",
      "\n",
      " t-score                   0.018568\n",
      "p-value                   0.100000\n",
      "# lags used              29.000000\n",
      "critical value (10%)      0.119000\n",
      "critical value (5%)       0.146000\n",
      "critical value (2.5%)     0.176000\n",
      "critical value (1%)       0.216000\n",
      "dtype: float64\n"
     ]
    },
    {
     "name": "stderr",
     "output_type": "stream",
     "text": [
      "C:\\Python\\lib\\site-packages\\statsmodels\\tsa\\stattools.py:1278: InterpolationWarning: p-value is greater than the indicated p-value\n",
      "  warn(\"p-value is greater than the indicated p-value\", InterpolationWarning)\n"
     ]
    },
    {
     "data": {
      "text/html": [
       "<div>\n",
       "<style scoped>\n",
       "    .dataframe tbody tr th:only-of-type {\n",
       "        vertical-align: middle;\n",
       "    }\n",
       "\n",
       "    .dataframe tbody tr th {\n",
       "        vertical-align: top;\n",
       "    }\n",
       "\n",
       "    .dataframe thead th {\n",
       "        text-align: right;\n",
       "    }\n",
       "</style>\n",
       "<table border=\"1\" class=\"dataframe\">\n",
       "  <thead>\n",
       "    <tr style=\"text-align: right;\">\n",
       "      <th></th>\n",
       "      <th>price</th>\n",
       "      <th>volatility</th>\n",
       "      <th>volume_price</th>\n",
       "      <th>volume_number</th>\n",
       "      <th>positive_comment</th>\n",
       "    </tr>\n",
       "    <tr>\n",
       "      <th>date</th>\n",
       "      <th></th>\n",
       "      <th></th>\n",
       "      <th></th>\n",
       "      <th></th>\n",
       "      <th></th>\n",
       "    </tr>\n",
       "  </thead>\n",
       "  <tbody>\n",
       "    <tr>\n",
       "      <th>2010-07-17</th>\n",
       "      <td>0.550310</td>\n",
       "      <td>-0.691985</td>\n",
       "      <td>1.609438</td>\n",
       "      <td>57.247903</td>\n",
       "      <td>0.0</td>\n",
       "    </tr>\n",
       "    <tr>\n",
       "      <th>2010-07-18</th>\n",
       "      <td>-0.060508</td>\n",
       "      <td>-0.111975</td>\n",
       "      <td>2.282382</td>\n",
       "      <td>548.187740</td>\n",
       "      <td>0.0</td>\n",
       "    </tr>\n",
       "    <tr>\n",
       "      <th>2010-07-19</th>\n",
       "      <td>-0.077962</td>\n",
       "      <td>-0.095023</td>\n",
       "      <td>-0.896088</td>\n",
       "      <td>-338.841317</td>\n",
       "      <td>0.0</td>\n",
       "    </tr>\n",
       "    <tr>\n",
       "      <th>2010-07-20</th>\n",
       "      <td>0.058087</td>\n",
       "      <td>0.061463</td>\n",
       "      <td>0.741937</td>\n",
       "      <td>262.641754</td>\n",
       "      <td>0.0</td>\n",
       "    </tr>\n",
       "    <tr>\n",
       "      <th>2010-07-21</th>\n",
       "      <td>-0.450129</td>\n",
       "      <td>0.457521</td>\n",
       "      <td>1.122143</td>\n",
       "      <td>2024.219364</td>\n",
       "      <td>0.0</td>\n",
       "    </tr>\n",
       "  </tbody>\n",
       "</table>\n",
       "</div>"
      ],
      "text/plain": [
       "               price  volatility  volume_price  volume_number  \\\n",
       "date                                                            \n",
       "2010-07-17  0.550310   -0.691985      1.609438      57.247903   \n",
       "2010-07-18 -0.060508   -0.111975      2.282382     548.187740   \n",
       "2010-07-19 -0.077962   -0.095023     -0.896088    -338.841317   \n",
       "2010-07-20  0.058087    0.061463      0.741937     262.641754   \n",
       "2010-07-21 -0.450129    0.457521      1.122143    2024.219364   \n",
       "\n",
       "            positive_comment  \n",
       "date                          \n",
       "2010-07-17               0.0  \n",
       "2010-07-18               0.0  \n",
       "2010-07-19               0.0  \n",
       "2010-07-20               0.0  \n",
       "2010-07-21               0.0  "
      ]
     },
     "execution_count": 23,
     "metadata": {},
     "output_type": "execute_result"
    }
   ],
   "source": [
    "# ['positive_comment'] = log & diff \n",
    "stationary['positive_comment'] = df['positive_comment'].apply(np.log).diff().dropna()\n",
    "# run tests to see if stationary\n",
    "series_analysis(stationary, 'positive_comment', xlabel = 'year', ylabel = 'Number of Positive Comments', title = 'Log_Diff_Positive_Comment')\n",
    "\n",
    "stationary.head()"
   ]
  },
  {
   "cell_type": "markdown",
   "metadata": {},
   "source": [
    "- ## neutral_comment"
   ]
  },
  {
   "cell_type": "code",
   "execution_count": 24,
   "metadata": {},
   "outputs": [
    {
     "name": "stdout",
     "output_type": "stream",
     "text": [
      "\n",
      "Descriptive Statistics for 'neutral_comment' \n",
      "\n",
      " count    2969.000000\n",
      "mean      119.354665\n",
      "std       158.398887\n",
      "min         1.000000\n",
      "25%         9.000000\n",
      "50%        88.000000\n",
      "75%       147.000000\n",
      "max      1676.000000\n",
      "Name: neutral_comment, dtype: float64\n"
     ]
    },
    {
     "data": {
      "image/png": "[encoded data removed]",
      "text/plain": [
       "<Figure size 432x288 with 1 Axes>"
      ]
     },
     "metadata": {},
     "output_type": "display_data"
    },
    {
     "name": "stdout",
     "output_type": "stream",
     "text": [
      "\n",
      "ADF: The data 'neutral_comment' is STATIONARY \n",
      "\n",
      " t-score                   -2.984152\n",
      "p-value                    0.036401\n",
      "# of lags used            29.000000\n",
      "# of observations       2939.000000\n",
      "critical value (1%)       -3.432577\n",
      "critical value (5%)       -2.862524\n",
      "critical value (10%)      -2.567294\n",
      "dtype: float64\n",
      "\n",
      "KPSS: The data 'neutral_comment' is NOT STATIONARY \n",
      "\n",
      " t-score                   0.386757\n",
      "p-value                   0.010000\n",
      "# lags used              29.000000\n",
      "critical value (10%)      0.119000\n",
      "critical value (5%)       0.146000\n",
      "critical value (2.5%)     0.176000\n",
      "critical value (1%)       0.216000\n",
      "dtype: float64\n"
     ]
    },
    {
     "name": "stderr",
     "output_type": "stream",
     "text": [
      "C:\\Python\\lib\\site-packages\\statsmodels\\tsa\\stattools.py:1276: InterpolationWarning: p-value is smaller than the indicated p-value\n",
      "  warn(\"p-value is smaller than the indicated p-value\", InterpolationWarning)\n"
     ]
    }
   ],
   "source": [
    "# ['neutral_comment']\n",
    "series_analysis(df, 'neutral_comment', xlabel = 'year', ylabel = 'Number of Neutral Comments', title = 'df[\\'neutral_comment\\']')"
   ]
  },
  {
   "cell_type": "code",
   "execution_count": 25,
   "metadata": {},
   "outputs": [
    {
     "name": "stdout",
     "output_type": "stream",
     "text": [
      "\n",
      "Descriptive Statistics for 'neutral_comment' \n",
      "\n",
      " count    2968.000000\n",
      "mean        0.001792\n",
      "std         0.449143\n",
      "min        -3.135494\n",
      "25%        -0.163068\n",
      "50%         0.000000\n",
      "75%         0.158856\n",
      "max         3.784190\n",
      "Name: neutral_comment, dtype: float64\n"
     ]
    },
    {
     "data": {
      "image/png": "[encoded data removed]",
      "text/plain": [
       "<Figure size 432x288 with 1 Axes>"
      ]
     },
     "metadata": {},
     "output_type": "display_data"
    },
    {
     "name": "stdout",
     "output_type": "stream",
     "text": [
      "\n",
      "ADF: The data 'neutral_comment' is STATIONARY \n",
      "\n",
      " t-score                -1.364001e+01\n",
      "p-value                 1.660039e-25\n",
      "# of lags used          2.600000e+01\n",
      "# of observations       2.941000e+03\n",
      "critical value (1%)    -3.432575e+00\n",
      "critical value (5%)    -2.862523e+00\n",
      "critical value (10%)   -2.567293e+00\n",
      "dtype: float64\n",
      "\n",
      "KPSS: The data 'neutral_comment' is STATIONARY \n",
      "\n",
      " t-score                   0.015243\n",
      "p-value                   0.100000\n",
      "# lags used              29.000000\n",
      "critical value (10%)      0.119000\n",
      "critical value (5%)       0.146000\n",
      "critical value (2.5%)     0.176000\n",
      "critical value (1%)       0.216000\n",
      "dtype: float64\n"
     ]
    },
    {
     "name": "stderr",
     "output_type": "stream",
     "text": [
      "C:\\Python\\lib\\site-packages\\statsmodels\\tsa\\stattools.py:1278: InterpolationWarning: p-value is greater than the indicated p-value\n",
      "  warn(\"p-value is greater than the indicated p-value\", InterpolationWarning)\n"
     ]
    },
    {
     "data": {
      "text/html": [
       "<div>\n",
       "<style scoped>\n",
       "    .dataframe tbody tr th:only-of-type {\n",
       "        vertical-align: middle;\n",
       "    }\n",
       "\n",
       "    .dataframe tbody tr th {\n",
       "        vertical-align: top;\n",
       "    }\n",
       "\n",
       "    .dataframe thead th {\n",
       "        text-align: right;\n",
       "    }\n",
       "</style>\n",
       "<table border=\"1\" class=\"dataframe\">\n",
       "  <thead>\n",
       "    <tr style=\"text-align: right;\">\n",
       "      <th></th>\n",
       "      <th>price</th>\n",
       "      <th>volatility</th>\n",
       "      <th>volume_price</th>\n",
       "      <th>volume_number</th>\n",
       "      <th>positive_comment</th>\n",
       "      <th>neutral_comment</th>\n",
       "    </tr>\n",
       "    <tr>\n",
       "      <th>date</th>\n",
       "      <th></th>\n",
       "      <th></th>\n",
       "      <th></th>\n",
       "      <th></th>\n",
       "      <th></th>\n",
       "      <th></th>\n",
       "    </tr>\n",
       "  </thead>\n",
       "  <tbody>\n",
       "    <tr>\n",
       "      <th>2010-07-17</th>\n",
       "      <td>0.550310</td>\n",
       "      <td>-0.691985</td>\n",
       "      <td>1.609438</td>\n",
       "      <td>57.247903</td>\n",
       "      <td>0.0</td>\n",
       "      <td>0.0</td>\n",
       "    </tr>\n",
       "    <tr>\n",
       "      <th>2010-07-18</th>\n",
       "      <td>-0.060508</td>\n",
       "      <td>-0.111975</td>\n",
       "      <td>2.282382</td>\n",
       "      <td>548.187740</td>\n",
       "      <td>0.0</td>\n",
       "      <td>0.0</td>\n",
       "    </tr>\n",
       "    <tr>\n",
       "      <th>2010-07-19</th>\n",
       "      <td>-0.077962</td>\n",
       "      <td>-0.095023</td>\n",
       "      <td>-0.896088</td>\n",
       "      <td>-338.841317</td>\n",
       "      <td>0.0</td>\n",
       "      <td>0.0</td>\n",
       "    </tr>\n",
       "    <tr>\n",
       "      <th>2010-07-20</th>\n",
       "      <td>0.058087</td>\n",
       "      <td>0.061463</td>\n",
       "      <td>0.741937</td>\n",
       "      <td>262.641754</td>\n",
       "      <td>0.0</td>\n",
       "      <td>0.0</td>\n",
       "    </tr>\n",
       "    <tr>\n",
       "      <th>2010-07-21</th>\n",
       "      <td>-0.450129</td>\n",
       "      <td>0.457521</td>\n",
       "      <td>1.122143</td>\n",
       "      <td>2024.219364</td>\n",
       "      <td>0.0</td>\n",
       "      <td>0.0</td>\n",
       "    </tr>\n",
       "  </tbody>\n",
       "</table>\n",
       "</div>"
      ],
      "text/plain": [
       "               price  volatility  volume_price  volume_number  \\\n",
       "date                                                            \n",
       "2010-07-17  0.550310   -0.691985      1.609438      57.247903   \n",
       "2010-07-18 -0.060508   -0.111975      2.282382     548.187740   \n",
       "2010-07-19 -0.077962   -0.095023     -0.896088    -338.841317   \n",
       "2010-07-20  0.058087    0.061463      0.741937     262.641754   \n",
       "2010-07-21 -0.450129    0.457521      1.122143    2024.219364   \n",
       "\n",
       "            positive_comment  neutral_comment  \n",
       "date                                           \n",
       "2010-07-17               0.0              0.0  \n",
       "2010-07-18               0.0              0.0  \n",
       "2010-07-19               0.0              0.0  \n",
       "2010-07-20               0.0              0.0  \n",
       "2010-07-21               0.0              0.0  "
      ]
     },
     "execution_count": 25,
     "metadata": {},
     "output_type": "execute_result"
    }
   ],
   "source": [
    "# ['neutral_comment'] = log & diff\n",
    "stationary['neutral_comment'] = df['neutral_comment'].apply(np.log).diff().dropna()\n",
    "# run tests to see if stationary\n",
    "series_analysis(stationary, 'neutral_comment', xlabel = 'year', ylabel = 'Number of Neutral Comments', title = 'Log_Diff_Neutral_Comment')\n",
    "\n",
    "stationary.head()"
   ]
  },
  {
   "cell_type": "markdown",
   "metadata": {},
   "source": [
    "- ## negative_comment"
   ]
  },
  {
   "cell_type": "code",
   "execution_count": 26,
   "metadata": {},
   "outputs": [
    {
     "name": "stdout",
     "output_type": "stream",
     "text": [
      "\n",
      "Descriptive Statistics for 'negative_comment' \n",
      "\n",
      " count    2969.000000\n",
      "mean      349.636915\n",
      "std       436.218905\n",
      "min         1.000000\n",
      "25%        24.000000\n",
      "50%       272.000000\n",
      "75%       448.000000\n",
      "max      4527.000000\n",
      "Name: negative_comment, dtype: float64\n"
     ]
    },
    {
     "data": {
      "image/png": "[encoded data removed]",
      "text/plain": [
       "<Figure size 432x288 with 1 Axes>"
      ]
     },
     "metadata": {},
     "output_type": "display_data"
    },
    {
     "name": "stdout",
     "output_type": "stream",
     "text": [
      "\n",
      "ADF: The data 'negative_comment' is NOT STATIONARY \n",
      "\n",
      " t-score                   -2.773236\n",
      "p-value                    0.062200\n",
      "# of lags used            28.000000\n",
      "# of observations       2940.000000\n",
      "critical value (1%)       -3.432576\n",
      "critical value (5%)       -2.862524\n",
      "critical value (10%)      -2.567294\n",
      "dtype: float64\n",
      "\n",
      "KPSS: The data 'negative_comment' is NOT STATIONARY \n",
      "\n",
      " t-score                   0.366032\n",
      "p-value                   0.010000\n",
      "# lags used              29.000000\n",
      "critical value (10%)      0.119000\n",
      "critical value (5%)       0.146000\n",
      "critical value (2.5%)     0.176000\n",
      "critical value (1%)       0.216000\n",
      "dtype: float64\n"
     ]
    },
    {
     "name": "stderr",
     "output_type": "stream",
     "text": [
      "C:\\Python\\lib\\site-packages\\statsmodels\\tsa\\stattools.py:1276: InterpolationWarning: p-value is smaller than the indicated p-value\n",
      "  warn(\"p-value is smaller than the indicated p-value\", InterpolationWarning)\n"
     ]
    }
   ],
   "source": [
    "# ['negative_comment']\n",
    "series_analysis(df, 'negative_comment', xlabel = 'year', ylabel = 'Number of Negative Comments', title = 'df[\\'negative_comment\\']')"
   ]
  },
  {
   "cell_type": "code",
   "execution_count": 27,
   "metadata": {},
   "outputs": [
    {
     "name": "stdout",
     "output_type": "stream",
     "text": [
      "\n",
      "Descriptive Statistics for 'negative_comment' \n",
      "\n",
      " count    2968.000000\n",
      "mean        0.002155\n",
      "std         0.423918\n",
      "min        -2.197225\n",
      "25%        -0.166970\n",
      "50%         0.000000\n",
      "75%         0.158443\n",
      "max         3.637586\n",
      "Name: negative_comment, dtype: float64\n"
     ]
    },
    {
     "data": {
      "image/png": "[encoded data removed]",
      "text/plain": [
       "<Figure size 432x288 with 1 Axes>"
      ]
     },
     "metadata": {},
     "output_type": "display_data"
    },
    {
     "name": "stdout",
     "output_type": "stream",
     "text": [
      "\n",
      "ADF: The data 'negative_comment' is STATIONARY \n",
      "\n",
      " t-score                -1.203248e+01\n",
      "p-value                 2.852870e-22\n",
      "# of lags used          2.900000e+01\n",
      "# of observations       2.938000e+03\n",
      "critical value (1%)    -3.432578e+00\n",
      "critical value (5%)    -2.862524e+00\n",
      "critical value (10%)   -2.567294e+00\n",
      "dtype: float64\n",
      "\n",
      "KPSS: The data 'negative_comment' is STATIONARY \n",
      "\n",
      " t-score                   0.014277\n",
      "p-value                   0.100000\n",
      "# lags used              29.000000\n",
      "critical value (10%)      0.119000\n",
      "critical value (5%)       0.146000\n",
      "critical value (2.5%)     0.176000\n",
      "critical value (1%)       0.216000\n",
      "dtype: float64\n"
     ]
    },
    {
     "name": "stderr",
     "output_type": "stream",
     "text": [
      "C:\\Python\\lib\\site-packages\\statsmodels\\tsa\\stattools.py:1278: InterpolationWarning: p-value is greater than the indicated p-value\n",
      "  warn(\"p-value is greater than the indicated p-value\", InterpolationWarning)\n"
     ]
    },
    {
     "data": {
      "text/html": [
       "<div>\n",
       "<style scoped>\n",
       "    .dataframe tbody tr th:only-of-type {\n",
       "        vertical-align: middle;\n",
       "    }\n",
       "\n",
       "    .dataframe tbody tr th {\n",
       "        vertical-align: top;\n",
       "    }\n",
       "\n",
       "    .dataframe thead th {\n",
       "        text-align: right;\n",
       "    }\n",
       "</style>\n",
       "<table border=\"1\" class=\"dataframe\">\n",
       "  <thead>\n",
       "    <tr style=\"text-align: right;\">\n",
       "      <th></th>\n",
       "      <th>price</th>\n",
       "      <th>volatility</th>\n",
       "      <th>volume_price</th>\n",
       "      <th>volume_number</th>\n",
       "      <th>positive_comment</th>\n",
       "      <th>neutral_comment</th>\n",
       "      <th>negative_comment</th>\n",
       "    </tr>\n",
       "    <tr>\n",
       "      <th>date</th>\n",
       "      <th></th>\n",
       "      <th></th>\n",
       "      <th></th>\n",
       "      <th></th>\n",
       "      <th></th>\n",
       "      <th></th>\n",
       "      <th></th>\n",
       "    </tr>\n",
       "  </thead>\n",
       "  <tbody>\n",
       "    <tr>\n",
       "      <th>2010-07-17</th>\n",
       "      <td>0.550310</td>\n",
       "      <td>-0.691985</td>\n",
       "      <td>1.609438</td>\n",
       "      <td>57.247903</td>\n",
       "      <td>0.0</td>\n",
       "      <td>0.0</td>\n",
       "      <td>0.0</td>\n",
       "    </tr>\n",
       "    <tr>\n",
       "      <th>2010-07-18</th>\n",
       "      <td>-0.060508</td>\n",
       "      <td>-0.111975</td>\n",
       "      <td>2.282382</td>\n",
       "      <td>548.187740</td>\n",
       "      <td>0.0</td>\n",
       "      <td>0.0</td>\n",
       "      <td>0.0</td>\n",
       "    </tr>\n",
       "    <tr>\n",
       "      <th>2010-07-19</th>\n",
       "      <td>-0.077962</td>\n",
       "      <td>-0.095023</td>\n",
       "      <td>-0.896088</td>\n",
       "      <td>-338.841317</td>\n",
       "      <td>0.0</td>\n",
       "      <td>0.0</td>\n",
       "      <td>0.0</td>\n",
       "    </tr>\n",
       "    <tr>\n",
       "      <th>2010-07-20</th>\n",
       "      <td>0.058087</td>\n",
       "      <td>0.061463</td>\n",
       "      <td>0.741937</td>\n",
       "      <td>262.641754</td>\n",
       "      <td>0.0</td>\n",
       "      <td>0.0</td>\n",
       "      <td>0.0</td>\n",
       "    </tr>\n",
       "    <tr>\n",
       "      <th>2010-07-21</th>\n",
       "      <td>-0.450129</td>\n",
       "      <td>0.457521</td>\n",
       "      <td>1.122143</td>\n",
       "      <td>2024.219364</td>\n",
       "      <td>0.0</td>\n",
       "      <td>0.0</td>\n",
       "      <td>0.0</td>\n",
       "    </tr>\n",
       "  </tbody>\n",
       "</table>\n",
       "</div>"
      ],
      "text/plain": [
       "               price  volatility  volume_price  volume_number  \\\n",
       "date                                                            \n",
       "2010-07-17  0.550310   -0.691985      1.609438      57.247903   \n",
       "2010-07-18 -0.060508   -0.111975      2.282382     548.187740   \n",
       "2010-07-19 -0.077962   -0.095023     -0.896088    -338.841317   \n",
       "2010-07-20  0.058087    0.061463      0.741937     262.641754   \n",
       "2010-07-21 -0.450129    0.457521      1.122143    2024.219364   \n",
       "\n",
       "            positive_comment  neutral_comment  negative_comment  \n",
       "date                                                             \n",
       "2010-07-17               0.0              0.0               0.0  \n",
       "2010-07-18               0.0              0.0               0.0  \n",
       "2010-07-19               0.0              0.0               0.0  \n",
       "2010-07-20               0.0              0.0               0.0  \n",
       "2010-07-21               0.0              0.0               0.0  "
      ]
     },
     "execution_count": 27,
     "metadata": {},
     "output_type": "execute_result"
    }
   ],
   "source": [
    "# ['negative_comment'] = log & diff \n",
    "stationary['negative_comment'] = df['negative_comment'].apply(np.log).diff().dropna()\n",
    "# run tests to see if stationary\n",
    "series_analysis(stationary, 'negative_comment', xlabel = 'year', ylabel = 'Number of Negative Comments', title = 'Log_Diff_Negative_Comment')\n",
    "\n",
    "stationary.head()"
   ]
  },
  {
   "cell_type": "code",
   "execution_count": 28,
   "metadata": {},
   "outputs": [],
   "source": [
    "stationary.to_csv('stationary_data_all.csv')"
   ]
  }
 ],
 "metadata": {
  "kernelspec": {
   "display_name": "Python 3",
   "language": "python",
   "name": "python3"
  },
  "language_info": {
   "codemirror_mode": {
    "name": "ipython",
    "version": 3
   },
   "file_extension": ".py",
   "mimetype": "text/x-python",
   "name": "python",
   "nbconvert_exporter": "python",
   "pygments_lexer": "ipython3",
   "version": "3.6.5"
  }
 },
 "nbformat": 4,
 "nbformat_minor": 2
}
